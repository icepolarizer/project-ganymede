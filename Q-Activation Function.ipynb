{
 "cells": [
  {
   "cell_type": "markdown",
   "metadata": {},
   "source": [
    "# Q-Activation Function Prototype\n",
    "## Basic Function model - using qbit instead of sigmoid"
   ]
  },
  {
   "cell_type": "markdown",
   "metadata": {},
   "source": [
    "First, import reqired modules. Aer is a simulating framework of Qiskit."
   ]
  },
  {
   "cell_type": "code",
   "execution_count": 53,
   "metadata": {},
   "outputs": [],
   "source": [
    "from qiskit import QuantumRegister, ClassicalRegister, QuantumCircuit\n",
    "from qiskit import compile, Aer\n",
    "import math"
   ]
  },
  {
   "cell_type": "markdown",
   "metadata": {},
   "source": [
    "Define the activation function.\n",
    "Like many other activaton functions, it simply get's input, and returns it back if the conditon is satisfied. However, *this condition is slightly different.* The input value, which satisfies  $0 < x < 1$ , is used to tilt our qubit's vector. This vector is defined in the system called 'Bloch Sphere', and it makes the Y rotation $\\theta$, respect to function's input argument.\n",
    "\n",
    "This time, only the Aer simulator is used. However, this can be executed in IBM's real quantum computer, whenever it's available."
   ]
  },
  {
   "cell_type": "code",
   "execution_count": 94,
   "metadata": {},
   "outputs": [],
   "source": [
    "def xavier(prob):\n",
    "    if not 0 <= prob <= 1:\n",
    "        print(\"Prob should be a probability between 0 and 1\")\n",
    "        return\n",
    "    qr = QuantumRegister(1)\n",
    "    cr = ClassicalRegister(1)\n",
    "    qc = QuantumCircuit(qr, cr)\n",
    "    qc.h(qr)\n",
    "    qc.u3(prob*math.pi, 0, 0, qr[0])\n",
    "    qc.measure(qr, cr)\n",
    "\n",
    "    qc.draw()\n",
    "\n",
    "    backend = Aer.get_backend('qasm_simulator')\n",
    "    qobj = compile(qc, backend, shots=1)\n",
    "    job = backend.run(qobj)\n",
    "    result = job.result()\n",
    "    counts = result.get_counts()\n",
    "    #print(counts)\n",
    "    # print(\"Result: \", max(counts.keys(), key=(lambda k: counts[k])))\n",
    "    if int(min(counts.keys(), key=(lambda k: counts[k]))) == 1:\n",
    "        return {'signal': prob, 'circuit': qc}\n",
    "    else:\n",
    "        return {'signal': 0, 'circuit': qc}"
   ]
  },
  {
   "cell_type": "code",
   "execution_count": 99,
   "metadata": {},
   "outputs": [
    {
     "name": "stdout",
     "output_type": "stream",
     "text": [
      "Shot 1: 0\n",
      "Shot 2: 0.1\n",
      "Shot 3: 0\n",
      "Shot 4: 0\n",
      "Shot 5: 0.1\n",
      "Shot 6: 0.1\n",
      "Shot 7: 0\n",
      "Shot 8: 0.1\n",
      "Shot 9: 0\n",
      "Shot 10: 0.1\n"
     ]
    }
   ],
   "source": [
    "for i in range(10):\n",
    "    print('Shot %s: %s' % (str(i+1), xavier(0.1)['signal']))"
   ]
  },
  {
   "cell_type": "markdown",
   "metadata": {},
   "source": [
    "Also, this function returns the circuit object. Which means you can draw a q-circuit diagram with this."
   ]
  },
  {
   "cell_type": "code",
   "execution_count": 20,
   "metadata": {},
   "outputs": [
    {
     "data": {
      "text/html": [
       "<pre style=\"word-wrap: normal;white-space: pre;line-height: 15px;\">          ┌───┐┌─────────────────┐┌─┐\n",
       "q19_0: |0>┤ H ├┤ U3(0.15708,0,0) ├┤M├\n",
       "          └───┘└─────────────────┘└╥┘\n",
       " c19_0: 0 ═════════════════════════╩═\n",
       "                                     </pre>"
      ],
      "text/plain": [
       "<qiskit.tools.visualization._text.TextDrawing at 0x7f3dc5c9f0b8>"
      ]
     },
     "execution_count": 20,
     "metadata": {},
     "output_type": "execute_result"
    }
   ],
   "source": [
    "xavier(0.5)['circuit'].draw()"
   ]
  },
  {
   "cell_type": "code",
   "execution_count": null,
   "metadata": {},
   "outputs": [],
   "source": []
  }
 ],
 "metadata": {
  "kernelspec": {
   "display_name": "Python 3",
   "language": "python",
   "name": "python3"
  },
  "language_info": {
   "codemirror_mode": {
    "name": "ipython",
    "version": 3
   },
   "file_extension": ".py",
   "mimetype": "text/x-python",
   "name": "python",
   "nbconvert_exporter": "python",
   "pygments_lexer": "ipython3",
   "version": "3.6.7"
  }
 },
 "nbformat": 4,
 "nbformat_minor": 1
}
